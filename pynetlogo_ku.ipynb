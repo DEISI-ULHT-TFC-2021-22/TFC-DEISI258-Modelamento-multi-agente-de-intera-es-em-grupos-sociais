{
 "cells": [
  {
   "cell_type": "code",
   "execution_count": 1,
   "metadata": {
    "collapsed": true
   },
   "outputs": [],
   "source": [
    "import os\n",
    "from sys import platform\n",
    "\n",
    "import pyNetLogo\n",
    "\n",
    "import pandas as pd\n",
    "import numpy as np\n",
    "\n",
    "from matplotlib import pyplot as plt\n",
    "from collections import Counter"
   ]
  },
  {
   "cell_type": "code",
   "execution_count": 2,
   "metadata": {},
   "outputs": [
    {
     "name": "stdout",
     "output_type": "stream",
     "text": [
      "NetLogo -> /home/paulo/Desktop/TFC/NetLogo-6.2.1-64/NetLogo 6.2.1\n"
     ]
    }
   ],
   "source": [
    "if platform == \"linux\":\n",
    "    os.environ[\"NetLogo\"] = \"/home/paulo/Desktop/TFC/NetLogo-6.2.1-64/NetLogo 6.2.1\"\n",
    "    \n",
    "for key in os.environ:\n",
    "    if key.lower() == \"netlogo\":\n",
    "        print(f\"{key} -> {os.environ[key]}\")"
   ]
  },
  {
   "cell_type": "code",
   "execution_count": 3,
   "metadata": {
    "collapsed": false,
    "pycharm": {
     "name": "#%%\n"
    }
   },
   "outputs": [],
   "source": [
    "if platform == \"linux\":\n",
    "    ku_model_path = os.path.abspath(os.getcwd()) + \"/files/knowledge_units_with_board.nlogo\"    \n",
    "elif platform == \"win32\":\n",
    "    ku_model_path = os.path.abspath(os.getcwd()) + \"\\\\files\\\\knowledge_units_with_board.nlogo\"\n",
    "\n",
    "netlogo = pyNetLogo.NetLogoLink(\n",
    "    # ADD ( NetLogo : path )  AS AN ENVIRONMENT VARIABLE !!!\n",
    "    gui=False,\n",
    "    netlogo_home = os.environ['NetLogo'],\n",
    "    netlogo_version=\"6.2\",\n",
    ")\n",
    "\n",
    "netlogo.load_model(ku_model_path)\n",
    "\n",
    "keys = [\n",
    "    \"number_of_agents\",\n",
    "    \"ku_number\",\n",
    "    \"ku_len\",\n",
    "    \"c_threshold\",\n",
    "    \"probability_exploit\",\n",
    "]\n",
    "values = [6, 9, 8, 0.5, 0.5]\n",
    "\n",
    "experiment = {k: v for k, v in zip(keys, values)}\n",
    "\n",
    "# Set the input parameters\n",
    "for key, value in zip(keys, values):\n",
    "    if key == \"random-seed\":\n",
    "        # The NetLogo random seed requires a different syntax\n",
    "        netlogo.command(\"random-seed {}\".format(value))\n",
    "    else:\n",
    "        # Otherwise, assume the input parameters are global variables\n",
    "        netlogo.command(f\"set {key} {value}\")\n",
    "\n",
    "netlogo.command(\"setup\")"
   ]
  },
  {
   "cell_type": "code",
   "execution_count": 4,
   "metadata": {
    "collapsed": false,
    "pycharm": {
     "name": "#%%\n"
    }
   },
   "outputs": [],
   "source": [
    "def nd_array_to_compats(ndarr):\n",
    "    compats = []\n",
    "    curr_compat = []\n",
    "\n",
    "    # iterate current and next element\n",
    "    for curr, _next in zip(ndarr, ndarr[1:]):\n",
    "        curr_compat.append(curr)\n",
    "\n",
    "        # if next element is lower than current, a new instance started\n",
    "        if _next < curr:\n",
    "            # add compats and reset temp var\n",
    "            compats.append(curr_compat)\n",
    "            curr_compat = []\n",
    "\n",
    "    # REMOVE FIRST ELEMENT\n",
    "    compats[0].pop(0)\n",
    "\n",
    "    return compats\n",
    "\n",
    "# colours = ['red', 'green', 'blue']\n",
    "def gen_graph(compatibilities):\n",
    "    fig, ax = plt.subplots()\n",
    "    ax.set_xlabel(\"Tick\")\n",
    "    ax.set_ylabel(\"Hamming Distances\")\n",
    "    ax.set_aspect(100)\n",
    "    plt.title(\"Hamming Distances per Tick\")\n",
    "    # fig.set_size_inches(5, 5)\n",
    "\n",
    "    plt.yticks([0.0, 0.125, 0.25, 0.375, 0.5, 0.625, 0.75, 0.875, 1.0])\n",
    "\n",
    "    for index, compats in enumerate(compatibilities):\n",
    "        if index % 10 == 0:\n",
    "            for c, size in Counter(compats).items():\n",
    "                # print(size)\n",
    "                ax.scatter(x=index, y=c, s=(size**2), color=\"blue\")  # color=colours[size%3]\n",
    "\n",
    "    plt.savefig(\"files/new_plot.jpg\", dpi=300, transparent=False)\n",
    "    plt.show()"
   ]
  },
  {
   "cell_type": "code",
   "execution_count": 5,
   "metadata": {
    "collapsed": false,
    "pycharm": {
     "name": "#%%\n"
    }
   },
   "outputs": [
    {
     "name": "stdout",
     "output_type": "stream",
     "text": [
      "[0.    0.375 0.375 ... 0.75  0.75  0.875]\n"
     ]
    },
    {
     "data": {
      "image/png": "[encoded data removed]",
      "text/plain": [
       "<Figure size 432x288 with 1 Axes>"
      ]
     },
     "metadata": {
      "needs_background": "light"
     },
     "output_type": "display_data"
    }
   ],
   "source": [
    "# TODO : representar MELHOR quantas vezes cada valor é repetido\n",
    "# violin plot?\n",
    "\n",
    "netlogo.command(\"setup\")\n",
    "# run go 200 times\n",
    "netlogo.command(\"repeat 200 [go]\")\n",
    "\n",
    "# returns an ndarray\n",
    "report = netlogo.report(\"compats-report\")\n",
    "print(report)\n",
    "gen_graph(nd_array_to_compats(report))\n",
    "\n",
    "# TODO : m / f graphs"
   ]
  }
 ],
 "metadata": {
  "interpreter": {
   "hash": "e6c8dcfc44c4fdfa3e30ab25815909133805b5dca649c4a63e09a7270058d778"
  },
  "kernelspec": {
   "display_name": "Python 3.8.8 ('base')",
   "language": "python",
   "name": "python3"
  },
  "language_info": {
   "codemirror_mode": {
    "name": "ipython",
    "version": 3
   },
   "file_extension": ".py",
   "mimetype": "text/x-python",
   "name": "python",
   "nbconvert_exporter": "python",
   "pygments_lexer": "ipython3",
   "version": "3.8.8"
  }
 },
 "nbformat": 4,
 "nbformat_minor": 0
}
