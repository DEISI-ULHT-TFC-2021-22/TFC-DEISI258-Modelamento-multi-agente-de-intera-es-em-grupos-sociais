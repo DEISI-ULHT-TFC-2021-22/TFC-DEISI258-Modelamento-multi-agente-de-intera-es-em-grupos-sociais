{
 "cells": [
  {
   "cell_type": "markdown",
   "metadata": {},
   "source": [
    "# TFC - DEISI258 - Modelamento multi-agente de interações em grupos sociais\n",
    "\n",
    "Aluno: **Paulo Pinto** a21906966\n",
    "\n",
    "Orientador: **Manuel Marques Pita**\n",
    "\n",
    "\n",
    "Neste notebook:\n",
    "- É feita a conexão ao NetLogo através da biblioteca pyNetLogo\n",
    "- É carregado o modelo desenvolvido para o âmbito do TFC\n",
    "- A simulação é executada 50 vezes, para obter significância estatística\n",
    "- Os dados são visualizados e analisados"
   ]
  },
  {
   "cell_type": "markdown",
   "metadata": {},
   "source": [
    "## Imports"
   ]
  },
  {
   "cell_type": "markdown",
   "metadata": {},
   "source": [
    "### Setup Virtual Environment\n",
    "\n",
    "Create virtual environment 'venv' -> `python3 -m venv venv` or `python3.[version_number] -m venv venv`\n",
    "\n",
    "Activate 'venv' -> Linux `source venv/bin/activate` | Windows `. venv\\scripts\\activate`\n",
    "\n",
    "Install required packages -> `pip install -r requirements.txt`\n",
    "\n",
    "Errors - \n",
    "- `No module named 'pip'` -> python -m ensurepip\n",
    "- `No module named jpype` -> pip install jpype1"
   ]
  },
  {
   "cell_type": "code",
   "execution_count": 1,
   "metadata": {
    "collapsed": true
   },
   "outputs": [],
   "source": [
    "import os\n",
    "from sys import platform\n",
    "\n",
    "import pyNetLogo\n",
    "\n",
    "import pandas as pd\n",
    "import numpy as np\n",
    "\n",
    "from matplotlib import pyplot as plt\n",
    "from collections import Counter\n",
    "\n",
    "import seaborn as sns"
   ]
  },
  {
   "cell_type": "code",
   "execution_count": 2,
   "metadata": {},
   "outputs": [
    {
     "name": "stdout",
     "output_type": "stream",
     "text": [
      "NETLOGO -> D:\\Netlogo\n"
     ]
    }
   ],
   "source": [
    "# add ( NetLogo : path )  as an environment variable\n",
    "if platform == \"linux\":\n",
    "    os.environ[\"NetLogo\"] = \"/home/paulo/Desktop/TFC/NetLogo-6.2.1-64/NetLogo 6.2.1\"\n",
    "    \n",
    "for key in os.environ:\n",
    "    if key.lower() == \"netlogo\":\n",
    "        print(f\"{key} -> {os.environ[key]}\")\n",
    "\n",
    "# connect to netlogo\n",
    "netlogo = pyNetLogo.NetLogoLink(\n",
    "    gui=False,\n",
    "    netlogo_home = os.environ['NetLogo'],\n",
    "    netlogo_version=\"6.2\",\n",
    ")"
   ]
  },
  {
   "cell_type": "code",
   "execution_count": 3,
   "metadata": {
    "collapsed": false,
    "pycharm": {
     "name": "#%%\n"
    }
   },
   "outputs": [],
   "source": [
    "# load model\n",
    "if platform == \"linux\":\n",
    "    ku_model_path = os.path.abspath(os.getcwd()) + \"/files/knowledge_units_with_board.nlogo\"    \n",
    "elif platform == \"win32\":\n",
    "    ku_model_path = os.path.abspath(os.getcwd()) + \"\\\\files\\\\knowledge_units_with_board.nlogo\"\n",
    "\n",
    "def load_model(path):\n",
    "    netlogo.load_model(path)\n",
    "    netlogo.command(\"set number_of_agents 15\")\n",
    "    netlogo.command(\"setup\")\n",
    "    netlogo.command(\"repeat 200 [go]\")\n",
    "    \n",
    "load_model(ku_model_path)"
   ]
  },
  {
   "cell_type": "code",
   "execution_count": 4,
   "metadata": {},
   "outputs": [],
   "source": [
    "# change interface vars\n",
    "# keys = [\n",
    "#     \"number_of_agents\",\n",
    "#     \"ku_number\",\n",
    "#     \"ku_len\",\n",
    "#     \"c_threshold\",\n",
    "# ]\n",
    "# values = [6, 9, 8, 0.5]\n",
    "\n",
    "# experiment = {k: v for k, v in zip(keys, values)}to-report get-all-compatibilities\n",
    "\n",
    "# Set the input parameters\n",
    "# for key, value in zip(keys, values):\n",
    "#     if key == \"random-seed\":\n",
    "#         # The NetLogo random seed requires a different syntax\n",
    "#         netlogo.command(\"random-seed {}\".format(value))\n",
    "#     else:\n",
    "#         # Otherwise, assume the input parameters are global variables\n",
    "#         netlogo.command(f\"set {key} {value}\")\n",
    "# netlogo.command(\"set random-seed 250474\")"
   ]
  },
  {
   "cell_type": "code",
   "execution_count": 5,
   "metadata": {
    "collapsed": false,
    "pycharm": {
     "name": "#%%\n"
    }
   },
   "outputs": [],
   "source": [
    "def nd_array_to_compats(ndarr):\n",
    "    compats = []\n",
    "    curr_compat = []\n",
    "\n",
    "    # iterate current and next element\n",
    "    for curr, _next in zip(ndarr, ndarr[1:]):\n",
    "        curr_compat.append(curr)\n",
    "\n",
    "        # if next element is lower than current, a new instance started\n",
    "        if _next < curr:\n",
    "            # add compats and reset temp var\n",
    "            compats.append(curr_compat)\n",
    "            curr_compat = []\n",
    "\n",
    "    # REMOVE FIRST ELEMENT\n",
    "    compats[0].pop(0)\n",
    "\n",
    "    return compats\n",
    "\n",
    "# colours = ['red', 'green', 'blue']\n",
    "def gen_graph(compatibilities):\n",
    "    fig, ax = plt.subplots()\n",
    "    ax.set_xlabel(\"Tick\")\n",
    "    ax.set_ylabel(\"Hamming Distances\")\n",
    "    ax.set_aspect(100)\n",
    "    plt.title(\"Hamming Distances per Tick\")\n",
    "    # fig.set_size_inches(5, 5)\n",
    "\n",
    "    plt.yticks([0.0, 0.125, 0.25, 0.375, 0.5, 0.625, 0.75, 0.875, 1.0])\n",
    "\n",
    "    for index, compats in enumerate(compatibilities):\n",
    "        if index % 10 == 0:\n",
    "            for c, size in Counter(compats).items():\n",
    "                # print(size)\n",
    "                ax.scatter(x=index, y=c, s=(size**2), color=\"blue\")  # color=colours[size%3]\n",
    "\n",
    "    # sns.scatterplot(data= compatibilities)\n",
    "\n",
    "    plt.savefig(\"files/new_plot.jpg\", dpi=300, transparent=False)\n",
    "    plt.show()\n",
    "\n",
    "\n",
    "def plot_1d_arr(arr, ylabel, type=\"line\",aspect=70):\n",
    "    df = pd.DataFrame(arr)\n",
    "\n",
    "    fig, ax = plt.subplots()\n",
    "    ax.set_aspect(aspect)\n",
    "    ax.set_xlabel(\"Tick\")\n",
    "    ax.set_ylabel(ylabel)\n",
    "    fig.patch.set_facecolor('white')\n",
    "    plt.title(f\"{ylabel} / Tick\")\n",
    "\n",
    "    if type == \"line\":\n",
    "        sns.lineplot(data=df, x=range(len(arr)), y=df[0])\n",
    "    elif type == \"scatter\":\n",
    "        sns.scatterplot(data=df, x=range(len(arr)), y=df[0])\n",
    "    else:\n",
    "        sns.barplot(data=df, x=range(len(arr)), y=df[0])\n",
    "    \n",
    "    # print(df.describe())"
   ]
  },
  {
   "cell_type": "code",
   "execution_count": 6,
   "metadata": {},
   "outputs": [],
   "source": [
    "# netlogo.command(\"setup\")\n",
    "# netlogo.command(\"repeat 200 [go]\")\n",
    "\n",
    "# all_compat_ratios = netlogo.report(\"compat-ratio-report\")\n",
    "\n",
    "# compat_df = pd.DataFrame(all_compat_ratios)\n",
    "# compat_df\n",
    "\n",
    "# fig, ax = plt.subplots()\n",
    "# ax.set_xlabel(\"Tick\")\n",
    "# ax.set_ylabel(\"On Topic?\")\n",
    "# plt.title(\"Topic Divergence\")\n",
    "\n",
    "# # plt.yticks([-2.0, -1.0, 0.0, 1.0, 2.0])\n",
    "\n",
    "# sns.lineplot(data=compat_df, x=range(201), y=compat_df[0])\n",
    "\n",
    "# print(compat_df.describe())"
   ]
  },
  {
   "cell_type": "code",
   "execution_count": 7,
   "metadata": {},
   "outputs": [],
   "source": [
    "def show_sim_stats():\n",
    "    \"\"\"prints graph pertaining to the ran simulation\"\"\"\n",
    "    plot_1d_arr(netlogo.report(\"burst-length-report\"), ylabel=\"Burst Length\", type=\"line\", aspect=20)\n",
    "    # save_to_file(\"burst_lengths\", netlogo.report(\"burst-length-report\"))\n",
    "    participation = netlogo.report(\"mf-participation-report\")\n",
    "    female_part = participation[1::2] # Elements from list1 starting from 1 iterating by 2\n",
    "    male_part = participation[::2]\n",
    "\n",
    "    plot_1d_arr(female_part, ylabel=\"F Participation\", type=\"line\")\n",
    "    plot_1d_arr(male_part, ylabel=\"M Participation\", type=\"line\")\n",
    "\n",
    "\n",
    "# def save_to_file(file_name, content):\n",
    "#     with open(f\"outputs/{file_name}.csv\", \"w+\") as fp:\n",
    "#         fp.write(content.tostring())\n",
    "\n",
    "def read_from_file(file_name):\n",
    "    with open(f\"{file_name}\") as fp:\n",
    "        return np.fromstring(fp.readlines(),  dtype=int)\n",
    "\n",
    "def show_topic_divergence(scenario):\n",
    "    topic = [[],[]]\n",
    "\n",
    "    messages = netlogo.report(\"get-in-topic\").astype(int)\n",
    "    # should_be = [[2, 1, 3], [3, 1, 1, 4]]\n",
    "\n",
    "    with open(f\"plots/{scenario}_in-topic-data.csv\", \"a+\") as fp:\n",
    "        fp.write(f\"{list(messages)}\")\n",
    "        fp.write(\"\\n\")\n",
    "    \n",
    "    prev_compat = False\n",
    "\n",
    "    for curr_compat in messages:\n",
    "        \n",
    "        if prev_compat == curr_compat: # continue last count\n",
    "            topic[curr_compat][len(topic[curr_compat])-1] += 1\n",
    "        else: # create new count\n",
    "            topic[curr_compat].append(1)\n",
    "        \n",
    "        prev_compat = curr_compat\n",
    "\n",
    "    # print(topic)\n",
    "\n",
    "    sns.displot(topic[0], kde=True).set(title=\"Lengths of Out-of-Topic Discussions\")\n",
    "    x_ticks = [1, 2, 3, 4, 5, 6, 7, 8, 9, 10, 11, 12, 13, 14]\n",
    "    plt.xticks(x_ticks)\n",
    "\n",
    "    sns.displot(topic[1], kde=True).set(title=\"Lengths of In-Topic Discussions\")"
   ]
  },
  {
   "cell_type": "code",
   "execution_count": 8,
   "metadata": {},
   "outputs": [],
   "source": [
    "scenarios = {\n",
    "    # Scenario:sub-scenario : [Attentio Norm, females, males, female_prob_exploit, male_prob_exploit]\n",
    "    # Working class\n",
    "    1.1 : [\"General\", 1, 1, 0.65, 0.25],\n",
    "    1.2 : [\"General\", 2, 1, 0.65, 0.25],\n",
    "    1.3 : [\"Gendered\", 2, 1, 0.65, 0.25],\n",
    "    \n",
    "    # Middle class\n",
    "    2.1 : [\"General\", 1, 1, 0.7, 0.5],\n",
    "    2.2 : [\"General\", 2, 1, 0.7, 0.5],\n",
    "    2.3 : [\"Gendered\", 2, 1, 0.7, 0.5],\n",
    "    \n",
    "    # Upper class\n",
    "    3.1 : [\"General\", 1, 1, 0.85, 0.75],\n",
    "    3.2 : [\"General\", 2, 1, 0.85, 0.75],\n",
    "    3.3 : [\"Gendered\", 2, 1, 0.85, 0.75],\n",
    "}\n",
    "\n",
    "# run_scenario(*scenarios[1.1], 1.1, 50)"
   ]
  },
  {
   "cell_type": "code",
   "execution_count": 9,
   "metadata": {},
   "outputs": [],
   "source": [
    "# gets messages, returns in/out of topic lengths\n",
    "# [1, 0, 0, 0, 1, 1] -> [[3], [1, 2]]\n",
    "def add_topics(messages):\n",
    "    topic = [[],[]]\n",
    "    \n",
    "    prev_compat = 1 - messages[0]\n",
    "\n",
    "    for curr_compat in messages:\n",
    "        # print(curr_compat)\n",
    "        if prev_compat == curr_compat: # continue last count\n",
    "            topic[curr_compat][len(topic[curr_compat])-1] += 1\n",
    "        else: # create new count\n",
    "            topic[curr_compat].append(1)\n",
    "        \n",
    "        prev_compat = curr_compat\n",
    "    \n",
    "    return topic"
   ]
  },
  {
   "cell_type": "code",
   "execution_count": 10,
   "metadata": {},
   "outputs": [],
   "source": [
    "# concat all in/out of topic lengths\n",
    "def read_in_topic(scenario):\n",
    "    file_path = f\"outputs/{scenario}_topic_data.csv\"\n",
    "    in_topic = []\n",
    "    out_topic = []\n",
    "\n",
    "    with open(file_path) as fp:\n",
    "        \n",
    "        for l in fp.readlines():\n",
    "            lst = [int(e) for e in l if e.isalnum()]\n",
    "            \n",
    "            # print(add_topics(lst))\n",
    "            topics = add_topics(lst)\n",
    "            out_topic += topics[0]\n",
    "            in_topic += topics[1]\n",
    "            # print(f\"out {out_topic}\")\n",
    "            # print(f\"in  {all_topics[1]}\")\n",
    "\n",
    "    # print(Counter(in_topic))\n",
    "    return out_topic, in_topic\n",
    "\n",
    "    # msgs = ([''.join(e for e in l if e.isalnum()) for l in fp.readlines()])\n",
    "    # msgs = list(itertools.chain(*msgs))\n",
    "def run_scenario(method, females, males, f_exploit, m_exploit, scenario, iterations = 5):\n",
    "    file_path = f\"outputs/{scenario}_topic_data.csv\"\n",
    "    if os.path.exists(file_path): os.remove(file_path) # reset file\n",
    "    \n",
    "    netlogo.command(f'set Method \"Attention Norm - {method}\"')\n",
    "    netlogo.command(f'set females {females}')\n",
    "    netlogo.command(f'set males {males}')\n",
    "    netlogo.command(f'set female_prob_exploit {f_exploit}')\n",
    "    netlogo.command(f'set male_prob_exploit {m_exploit}')\n",
    "    \n",
    "    for _ in range(iterations):    \n",
    "        netlogo.command(\"setup\")\n",
    "        netlogo.command(\"repeat 200 [go]\")\n",
    "\n",
    "        messages = netlogo.report(\"get-in-topic\").astype(int)\n",
    "        with open(file_path, \"a+\") as fp:\n",
    "            fp.write(f\"{list(messages)}\")\n",
    "            fp.write(\"\\n\")\n",
    "\n",
    "    # return the length counts for in/out topic\n",
    "    out_topic, in_topic = read_in_topic(scenario)\n",
    "    \n",
    "    out_topic = list(map(int,out_topic))\n",
    "    in_topic = list(map(int,in_topic))\n",
    "    return Counter(out_topic), Counter(in_topic)\n",
    "\n",
    "    # show_topic_divergence(scenario)\n",
    "    # show_sim_stats()"
   ]
  },
  {
   "cell_type": "code",
   "execution_count": 11,
   "metadata": {},
   "outputs": [],
   "source": [
    "# in_topic_counter = list(map(int,in_topic_counter))\n",
    "\n",
    "# print(in_topic_counter)\n",
    "\n",
    "# sorted_keys = sorted(in_topic_counter.keys())\n",
    "# new_dict = {}\n",
    "# for k in sorted_keys:\n",
    "#     new_dict[k] = in_topic_counter[k]\n",
    "\n",
    "# in_topic_counter = new_items\n",
    "\n",
    "# print(out_topic_counter)\n",
    "# sorted_dict = dict(sorted(out_topic_counter.items()))\n",
    "# print(sorted_dict)\n",
    "# ind = np.arange(len(in_topic_counter))\n",
    "# data = in_topic_counter\n",
    "\n",
    "# plt.xlabel(\"Out-of-Topic Length\")\n",
    "# plt.ylabel(\"Count\")\n",
    "# plt.title(\"Lengths of Out-of-Topic Discussions\")\n",
    "# plt.bar(ind, list(data[0]))\n",
    "# plt.xticks(ind, list(data[1]))\n",
    "# plt.show()\n",
    "# out_topic_counter = sorted(out_topic_counter.items())"
   ]
  },
  {
   "cell_type": "code",
   "execution_count": 12,
   "metadata": {},
   "outputs": [
    {
     "data": {
      "image/png": "[encoded data removed]",
      "text/plain": [
       "<Figure size 432x288 with 1 Axes>"
      ]
     },
     "metadata": {
      "needs_background": "light"
     },
     "output_type": "display_data"
    },
    {
     "data": {
      "image/png": "[encoded data removed]",
      "text/plain": [
       "<Figure size 432x288 with 1 Axes>"
      ]
     },
     "metadata": {
      "needs_background": "light"
     },
     "output_type": "display_data"
    },
    {
     "data": {
      "image/png": "[encoded data removed]",
      "text/plain": [
       "<Figure size 432x288 with 1 Axes>"
      ]
     },
     "metadata": {
      "needs_background": "light"
     },
     "output_type": "display_data"
    },
    {
     "data": {
      "image/png": "[encoded data removed]",
      "text/plain": [
       "<Figure size 432x288 with 1 Axes>"
      ]
     },
     "metadata": {
      "needs_background": "light"
     },
     "output_type": "display_data"
    }
   ],
   "source": [
    "# data = {1: 9426, 2: 4367, 3: 2157, 4: 1079, 5: 517, 6: 234, 7: 123, 8: 61, 9: 36, 10: 8, 11: 5, 12: 4, 16: 2, 13: 2, 18: 1, 14: 1}\n",
    "scenario = 1.1\n",
    "out_topic_counter, in_topic_counter = run_scenario(*scenarios[scenario], scenario, 50)\n",
    "\n",
    "# sort\n",
    "out_topic_counter = dict(sorted(out_topic_counter.items()))\n",
    "in_topic_counter = dict(sorted(in_topic_counter.items()))\n",
    "\n",
    "ind = np.arange(len(out_topic_counter))\n",
    "data = out_topic_counter\n",
    "\n",
    "plt.xlabel(\"Out-of-Topic Length\")\n",
    "plt.ylabel(\"Count\")\n",
    "plt.title(\"Lengths of Out-of-Topic Discussions\")\n",
    "plt.bar(ind, list(data.values()))\n",
    "plt.xticks(ind, list(data.keys()))\n",
    "plt.show()\n",
    "# plt.savefig(f\"{scenario}_out_topic_linear.png\")\n",
    "\n",
    "plt.xlabel(\"Out-of-Topic Length\")\n",
    "plt.ylabel(\"Count\")\n",
    "plt.title(\"Lengths of Out-of-Topic Discussions - Log\")\n",
    "plt.bar(ind, list(data.values()))\n",
    "plt.xticks(ind, list(data.keys()))\n",
    "plt.yscale(\"log\")\n",
    "plt.show()\n",
    "# plt.savefig(f\"{scenario}_out_topic_log.png\")\n",
    "\n",
    "ind = np.arange(len(in_topic_counter))\n",
    "data = in_topic_counter\n",
    "\n",
    "plt.xlabel(\"In-Topic Length\")\n",
    "plt.ylabel(\"Count\")\n",
    "plt.title(\"Lengths of In-Topic Discussions\")\n",
    "plt.bar(ind, list(data.values()))\n",
    "plt.xticks(ind, list(data.keys()))\n",
    "plt.show()\n",
    "# plt.savefig(f\"{scenario}_in_topic_linear.png\")\n",
    "\n",
    "plt.xlabel(\"In-Topic Length\")\n",
    "plt.ylabel(\"Count\")\n",
    "plt.title(\"Lengths of In-Topic Discussions - Log\")\n",
    "plt.bar(ind, list(data.values()))\n",
    "plt.xticks(ind, list(data.keys()))\n",
    "plt.yscale(\"log\")\n",
    "plt.show()\n",
    "# plt.savefig(f\"{scenario}_in_topic_log.png\")\n",
    "\n",
    "# haven't tested savefig"
   ]
  },
  {
   "cell_type": "markdown",
   "metadata": {},
   "source": [
    "TODO : "
   ]
  }
 ],
 "metadata": {
  "kernelspec": {
   "display_name": "Python 3.10.4 ('tfc_venv': venv)",
   "language": "python",
   "name": "python3"
  },
  "language_info": {
   "codemirror_mode": {
    "name": "ipython",
    "version": 3
   },
   "file_extension": ".py",
   "mimetype": "text/x-python",
   "name": "python",
   "nbconvert_exporter": "python",
   "pygments_lexer": "ipython3",
   "version": "3.10.4"
  },
  "vscode": {
   "interpreter": {
    "hash": "224a1fb48f3aeff08e11720e458a68c9e04bd95f7c04bc0eca1a2d1887a6c242"
   }
  }
 },
 "nbformat": 4,
 "nbformat_minor": 0
}
