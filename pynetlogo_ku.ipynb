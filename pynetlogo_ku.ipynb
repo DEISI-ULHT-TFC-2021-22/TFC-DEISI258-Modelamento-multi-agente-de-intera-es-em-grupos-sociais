{
 "cells": [
  {
   "cell_type": "markdown",
   "metadata": {},
   "source": [
    "# TFC - DEISI258 - Modelamento multi-agente de interações em grupos sociais\n",
    "\n",
    "Aluno: **Paulo Pinto** a21906966\n",
    "\n",
    "Orientador: **Manuel Marques Pita**\n",
    "\n",
    "\n",
    "Neste notebook:\n",
    "- É feita a conexão ao NetLogo através da biblioteca pyNetLogo\n",
    "- É carregado o modelo desenvolvido para o âmbito do TFC\n",
    "- A simulação é executada 50 vezes, para obter significância estatística\n",
    "- Os dados são visualizados e analisados"
   ]
  },
  {
   "cell_type": "markdown",
   "metadata": {},
   "source": [
    "## Imports"
   ]
  },
  {
   "cell_type": "markdown",
   "metadata": {},
   "source": [
    "### Setup Virtual Environment\n",
    "\n",
    "Create virtual environment 'venv' -> `python3 -m venv venv` or `python3.[version_number] -m venv venv`\n",
    "\n",
    "Activate 'venv' -> Linux `source venv/bin/activate` | Windows `. venv\\scripts\\activate`\n",
    "\n",
    "Install required packages -> `pip install -r requirements.txt`\n",
    "\n",
    "Errors - \n",
    "- `No module named 'pip'` -> python -m ensurepip\n",
    "- `No module named jpype` -> pip install jpype1"
   ]
  },
  {
   "cell_type": "code",
   "execution_count": 5,
   "metadata": {
    "collapsed": true
   },
   "outputs": [],
   "source": [
    "import os\n",
    "from sys import platform\n",
    "\n",
    "import pyNetLogo\n",
    "\n",
    "import pandas as pd\n",
    "import numpy as np\n",
    "\n",
    "from matplotlib import pyplot as plt\n",
    "from collections import Counter\n",
    "\n",
    "import seaborn as sns"
   ]
  },
  {
   "cell_type": "code",
   "execution_count": 6,
   "metadata": {},
   "outputs": [
    {
     "name": "stdout",
     "output_type": "stream",
     "text": [
      "NetLogo -> /home/paulo/Desktop/TFC/NetLogo-6.2.1-64/NetLogo 6.2.1\n"
     ]
    }
   ],
   "source": [
    "# add ( NetLogo : path )  as an environment variable\n",
    "if platform == \"linux\":\n",
    "    os.environ[\"NetLogo\"] = \"/home/paulo/Desktop/TFC/NetLogo-6.2.1-64/NetLogo 6.2.1\"\n",
    "    \n",
    "for key in os.environ:\n",
    "    if key.lower() == \"netlogo\":\n",
    "        print(f\"{key} -> {os.environ[key]}\")\n",
    "\n",
    "# connect to netlogo\n",
    "netlogo = pyNetLogo.NetLogoLink(\n",
    "    gui=False,\n",
    "    netlogo_home = os.environ['NetLogo'],\n",
    "    netlogo_version=\"6.2\",\n",
    ")"
   ]
  },
  {
   "cell_type": "code",
   "execution_count": 7,
   "metadata": {
    "collapsed": false,
    "pycharm": {
     "name": "#%%\n"
    }
   },
   "outputs": [
    {
     "data": {
      "text/html": [
       "<div>\n",
       "<style scoped>\n",
       "    .dataframe tbody tr th:only-of-type {\n",
       "        vertical-align: middle;\n",
       "    }\n",
       "\n",
       "    .dataframe tbody tr th {\n",
       "        vertical-align: top;\n",
       "    }\n",
       "\n",
       "    .dataframe thead th {\n",
       "        text-align: right;\n",
       "    }\n",
       "</style>\n",
       "<table border=\"1\" class=\"dataframe\">\n",
       "  <thead>\n",
       "    <tr style=\"text-align: right;\">\n",
       "      <th></th>\n",
       "      <th>(1 - mf_ratio)</th>\n",
       "    </tr>\n",
       "  </thead>\n",
       "  <tbody>\n",
       "    <tr>\n",
       "      <th>0.0</th>\n",
       "      <td>0.5</td>\n",
       "    </tr>\n",
       "    <tr>\n",
       "      <th>1.0</th>\n",
       "      <td>0.5</td>\n",
       "    </tr>\n",
       "    <tr>\n",
       "      <th>2.0</th>\n",
       "      <td>0.5</td>\n",
       "    </tr>\n",
       "    <tr>\n",
       "      <th>3.0</th>\n",
       "      <td>0.5</td>\n",
       "    </tr>\n",
       "    <tr>\n",
       "      <th>4.0</th>\n",
       "      <td>0.5</td>\n",
       "    </tr>\n",
       "    <tr>\n",
       "      <th>5.0</th>\n",
       "      <td>0.5</td>\n",
       "    </tr>\n",
       "    <tr>\n",
       "      <th>6.0</th>\n",
       "      <td>0.5</td>\n",
       "    </tr>\n",
       "    <tr>\n",
       "      <th>7.0</th>\n",
       "      <td>0.5</td>\n",
       "    </tr>\n",
       "    <tr>\n",
       "      <th>8.0</th>\n",
       "      <td>0.5</td>\n",
       "    </tr>\n",
       "    <tr>\n",
       "      <th>9.0</th>\n",
       "      <td>0.5</td>\n",
       "    </tr>\n",
       "    <tr>\n",
       "      <th>10.0</th>\n",
       "      <td>0.5</td>\n",
       "    </tr>\n",
       "    <tr>\n",
       "      <th>11.0</th>\n",
       "      <td>0.5</td>\n",
       "    </tr>\n",
       "    <tr>\n",
       "      <th>12.0</th>\n",
       "      <td>0.5</td>\n",
       "    </tr>\n",
       "    <tr>\n",
       "      <th>13.0</th>\n",
       "      <td>0.5</td>\n",
       "    </tr>\n",
       "    <tr>\n",
       "      <th>14.0</th>\n",
       "      <td>0.5</td>\n",
       "    </tr>\n",
       "    <tr>\n",
       "      <th>15.0</th>\n",
       "      <td>0.5</td>\n",
       "    </tr>\n",
       "    <tr>\n",
       "      <th>16.0</th>\n",
       "      <td>0.5</td>\n",
       "    </tr>\n",
       "    <tr>\n",
       "      <th>17.0</th>\n",
       "      <td>0.5</td>\n",
       "    </tr>\n",
       "    <tr>\n",
       "      <th>18.0</th>\n",
       "      <td>0.5</td>\n",
       "    </tr>\n",
       "    <tr>\n",
       "      <th>19.0</th>\n",
       "      <td>0.5</td>\n",
       "    </tr>\n",
       "    <tr>\n",
       "      <th>20.0</th>\n",
       "      <td>0.5</td>\n",
       "    </tr>\n",
       "    <tr>\n",
       "      <th>21.0</th>\n",
       "      <td>0.5</td>\n",
       "    </tr>\n",
       "    <tr>\n",
       "      <th>22.0</th>\n",
       "      <td>0.5</td>\n",
       "    </tr>\n",
       "    <tr>\n",
       "      <th>23.0</th>\n",
       "      <td>0.5</td>\n",
       "    </tr>\n",
       "    <tr>\n",
       "      <th>24.0</th>\n",
       "      <td>0.5</td>\n",
       "    </tr>\n",
       "    <tr>\n",
       "      <th>25.0</th>\n",
       "      <td>0.5</td>\n",
       "    </tr>\n",
       "    <tr>\n",
       "      <th>26.0</th>\n",
       "      <td>0.5</td>\n",
       "    </tr>\n",
       "    <tr>\n",
       "      <th>27.0</th>\n",
       "      <td>0.5</td>\n",
       "    </tr>\n",
       "    <tr>\n",
       "      <th>28.0</th>\n",
       "      <td>0.5</td>\n",
       "    </tr>\n",
       "    <tr>\n",
       "      <th>29.0</th>\n",
       "      <td>0.5</td>\n",
       "    </tr>\n",
       "    <tr>\n",
       "      <th>30.0</th>\n",
       "      <td>0.5</td>\n",
       "    </tr>\n",
       "  </tbody>\n",
       "</table>\n",
       "</div>"
      ],
      "text/plain": [
       "      (1 - mf_ratio)\n",
       "0.0              0.5\n",
       "1.0              0.5\n",
       "2.0              0.5\n",
       "3.0              0.5\n",
       "4.0              0.5\n",
       "5.0              0.5\n",
       "6.0              0.5\n",
       "7.0              0.5\n",
       "8.0              0.5\n",
       "9.0              0.5\n",
       "10.0             0.5\n",
       "11.0             0.5\n",
       "12.0             0.5\n",
       "13.0             0.5\n",
       "14.0             0.5\n",
       "15.0             0.5\n",
       "16.0             0.5\n",
       "17.0             0.5\n",
       "18.0             0.5\n",
       "19.0             0.5\n",
       "20.0             0.5\n",
       "21.0             0.5\n",
       "22.0             0.5\n",
       "23.0             0.5\n",
       "24.0             0.5\n",
       "25.0             0.5\n",
       "26.0             0.5\n",
       "27.0             0.5\n",
       "28.0             0.5\n",
       "29.0             0.5\n",
       "30.0             0.5"
      ]
     },
     "execution_count": 7,
     "metadata": {},
     "output_type": "execute_result"
    }
   ],
   "source": [
    "def load_model():\n",
    "\n",
    "    if platform == \"linux\":\n",
    "        model_path = os.path.abspath(os.getcwd()) + \"/files/knowledge_units_with_board.nlogo\"    \n",
    "    elif platform == \"win32\":\n",
    "        model_path = os.path.abspath(os.getcwd()) + \"\\\\files\\\\knowledge_units_with_board.nlogo\"\n",
    "    netlogo.load_model(model_path)\n",
    "    netlogo.command(\"set number_of_agents 15\")\n",
    "    netlogo.command(\"setup\")\n",
    "    \n",
    "load_model()\n",
    "\n",
    "# todo -> \n",
    "# repeat_report !!!\n",
    "# reduce vars -> compatibilities is inverse of divergency...\n",
    "# reuse functions\n",
    "# trash old functions ( graph gen etc. )\n",
    "# multithreading for running all sims at once ! https://docs.python.org/3/library/multiprocessing.html\n",
    "\n",
    "netlogo.repeat_report(\"(1 - mf_ratio)\", 3)\n",
    "\n",
    "# change interface vars\n",
    "# netlogo.command(\"set random-seed 250474\")"
   ]
  },
  {
   "cell_type": "code",
   "execution_count": 11,
   "metadata": {},
   "outputs": [
    {
     "data": {
      "text/html": [
       "<div>\n",
       "<style scoped>\n",
       "    .dataframe tbody tr th:only-of-type {\n",
       "        vertical-align: middle;\n",
       "    }\n",
       "\n",
       "    .dataframe tbody tr th {\n",
       "        vertical-align: top;\n",
       "    }\n",
       "\n",
       "    .dataframe thead th {\n",
       "        text-align: right;\n",
       "    }\n",
       "</style>\n",
       "<table border=\"1\" class=\"dataframe\">\n",
       "  <thead>\n",
       "    <tr style=\"text-align: right;\">\n",
       "      <th></th>\n",
       "      <th>[male_participation] of one-of boards</th>\n",
       "      <th>[female_participation] of one-of boards</th>\n",
       "    </tr>\n",
       "  </thead>\n",
       "  <tbody>\n",
       "    <tr>\n",
       "      <th>count</th>\n",
       "      <td>51.0</td>\n",
       "      <td>51.0</td>\n",
       "    </tr>\n",
       "    <tr>\n",
       "      <th>unique</th>\n",
       "      <td>9.0</td>\n",
       "      <td>7.0</td>\n",
       "    </tr>\n",
       "    <tr>\n",
       "      <th>top</th>\n",
       "      <td>1.0</td>\n",
       "      <td>6.0</td>\n",
       "    </tr>\n",
       "    <tr>\n",
       "      <th>freq</th>\n",
       "      <td>16.0</td>\n",
       "      <td>12.0</td>\n",
       "    </tr>\n",
       "  </tbody>\n",
       "</table>\n",
       "</div>"
      ],
      "text/plain": [
       "        [male_participation] of one-of boards  \\\n",
       "count                                    51.0   \n",
       "unique                                    9.0   \n",
       "top                                       1.0   \n",
       "freq                                     16.0   \n",
       "\n",
       "        [female_participation] of one-of boards  \n",
       "count                                      51.0  \n",
       "unique                                      7.0  \n",
       "top                                         6.0  \n",
       "freq                                       12.0  "
      ]
     },
     "execution_count": 11,
     "metadata": {},
     "output_type": "execute_result"
    }
   ],
   "source": [
    "report.describe()"
   ]
  },
  {
   "cell_type": "code",
   "execution_count": 13,
   "metadata": {},
   "outputs": [
    {
     "data": {
      "text/plain": [
       "<AxesSubplot:title={'center':'Gender Participation / Tick'}, xlabel='Tick', ylabel='Gender Participation'>"
      ]
     },
     "execution_count": 13,
     "metadata": {},
     "output_type": "execute_result"
    },
    {
     "data": {
      "image/png": "[encoded data removed]",
      "text/plain": [
       "<Figure size 432x288 with 1 Axes>"
      ]
     },
     "metadata": {
      "needs_background": "light"
     },
     "output_type": "display_data"
    }
   ],
   "source": [
    "# netlogo.command(\"setup\")\n",
    "netlogo.command(\"set female_prob_exploit 0.5\")\n",
    "netlogo.command(\"set male_prob_exploit 0.3\")\n",
    "# netlogo.command(\"repeat 200 [go]\")\n",
    "iterations = 50\n",
    "report = netlogo.repeat_report([\"[male_participation] of one-of boards\", \"[female_participation] of one-of boards\"], iterations)\n",
    "\n",
    "report = pd.DataFrame(report, dtype=float) # test w/o this\n",
    "\n",
    "fig, ax = plt.subplots()\n",
    "ax.set_xlabel(\"Tick\")\n",
    "ax.set_ylabel(\"Gender Participation\")\n",
    "plt.title(\"Gender Participation / Tick\")\n",
    "sns.lineplot(data=report.iloc[:])\n",
    "\n",
    "# report.iloc[0] get ticks ! \n",
    "# a\n",
    "\n",
    "# netlogo.command(\"random-seed 250474\")"
   ]
  },
  {
   "cell_type": "code",
   "execution_count": 5,
   "metadata": {
    "collapsed": false,
    "pycharm": {
     "name": "#%%\n"
    }
   },
   "outputs": [],
   "source": [
    "def nd_array_to_compats(ndarr):\n",
    "    compats = []\n",
    "    curr_compat = []\n",
    "\n",
    "    # iterate current and next element\n",
    "    for curr, _next in zip(ndarr, ndarr[1:]):\n",
    "        curr_compat.append(curr)\n",
    "\n",
    "        # if next element is lower than current, a new instance started\n",
    "        if _next < curr:\n",
    "            # add compats and reset temp var\n",
    "            compats.append(curr_compat)\n",
    "            curr_compat = []\n",
    "\n",
    "    # REMOVE FIRST ELEMENT\n",
    "    compats[0].pop(0)\n",
    "\n",
    "    return compats\n",
    "\n",
    "# colours = ['red', 'green', 'blue']\n",
    "def gen_graph(compatibilities):\n",
    "    fig, ax = plt.subplots()\n",
    "    ax.set_xlabel(\"Tick\")\n",
    "    ax.set_ylabel(\"Hamming Distances\")\n",
    "    ax.set_aspect(100)\n",
    "    plt.title(\"Hamming Distances per Tick\")\n",
    "    # fig.set_size_inches(5, 5)\n",
    "\n",
    "    plt.yticks([0.0, 0.125, 0.25, 0.375, 0.5, 0.625, 0.75, 0.875, 1.0])\n",
    "\n",
    "    for index, compats in enumerate(compatibilities):\n",
    "        if index % 10 == 0:\n",
    "            for c, size in Counter(compats).items():\n",
    "                # print(size)\n",
    "                ax.scatter(x=index, y=c, s=(size**2), color=\"blue\")  # color=colours[size%3]\n",
    "\n",
    "    # sns.scatterplot(data= compatibilities)\n",
    "\n",
    "    plt.savefig(\"files/new_plot.jpg\", dpi=300, transparent=False)\n",
    "    plt.show()\n",
    "\n",
    "\n",
    "def plot_1d_arr(arr, ylabel, type=\"line\",aspect=70):\n",
    "    df = pd.DataFrame(arr)\n",
    "\n",
    "    fig, ax = plt.subplots()\n",
    "    ax.set_aspect(aspect)\n",
    "    ax.set_xlabel(\"Tick\")\n",
    "    ax.set_ylabel(ylabel)\n",
    "    fig.patch.set_facecolor('white')\n",
    "    plt.title(f\"{ylabel} / Tick\")\n",
    "\n",
    "    if type == \"line\":\n",
    "        sns.lineplot(data=df, x=range(len(arr)), y=df[0])\n",
    "    elif type == \"scatter\":\n",
    "        sns.scatterplot(data=df, x=range(len(arr)), y=df[0])\n",
    "    else:\n",
    "        sns.barplot(data=df, x=range(len(arr)), y=df[0])\n",
    "    \n",
    "    # print(df.describe())"
   ]
  },
  {
   "cell_type": "code",
   "execution_count": 6,
   "metadata": {},
   "outputs": [
    {
     "name": "stdout",
     "output_type": "stream",
     "text": [
      "           0\n",
      "count  201.0\n",
      "mean     1.0\n",
      "std      0.0\n",
      "min      1.0\n",
      "25%      1.0\n",
      "50%      1.0\n",
      "75%      1.0\n",
      "max      1.0\n"
     ]
    },
    {
     "data": {
      "image/png": "[encoded data removed]",
      "text/plain": [
       "<Figure size 432x288 with 1 Axes>"
      ]
     },
     "metadata": {
      "needs_background": "light"
     },
     "output_type": "display_data"
    }
   ],
   "source": [
    "netlogo.command(\"setup\")\n",
    "netlogo.command(\"set female_prob_exploit 0.5\")\n",
    "netlogo.command(\"set male_prob_exploit 0.3\")\n",
    "netlogo.command(\"repeat 200 [go]\")\n",
    "\n",
    "all_compat_ratios = netlogo.report(\"compat-ratio-report\")\n",
    "\n",
    "compat_df = pd.DataFrame(all_compat_ratios)\n",
    "# compat_df\n",
    "\n",
    "fig, ax = plt.subplots()\n",
    "ax.set_xlabel(\"Tick\")\n",
    "ax.set_ylabel(\"On Topic?\")\n",
    "plt.title(\"Topic Divergence\")\n",
    "\n",
    "plt.yticks([-1.0, 0.0, 1.0])\n",
    "\n",
    "sns.lineplot(data=compat_df, x=range(201), y=compat_df[0])\n",
    "\n",
    "print(compat_df.describe())"
   ]
  },
  {
   "cell_type": "code",
   "execution_count": 7,
   "metadata": {},
   "outputs": [],
   "source": [
    "def show_sim_stats():\n",
    "    \"\"\"prints graph pertaining to the ran simulation\"\"\"\n",
    "    plot_1d_arr(netlogo.report(\"burst-length-report\"), ylabel=\"Burst Length\", type=\"line\", aspect=20)\n",
    "    # save_to_file(\"burst_lengths\", netlogo.report(\"burst-length-report\"))\n",
    "    participation = netlogo.report(\"mf-participation-report\")\n",
    "    female_part = participation[1::2] # Elements from list1 starting from 1 iterating by 2\n",
    "    male_part = participation[::2]\n",
    "\n",
    "    plot_1d_arr(female_part, ylabel=\"F Participation\", type=\"line\")\n",
    "    plot_1d_arr(male_part, ylabel=\"M Participation\", type=\"line\")\n",
    "\n",
    "\n",
    "# def save_to_file(file_name, content):\n",
    "#     with open(f\"outputs/{file_name}.csv\", \"w+\") as fp:\n",
    "#         fp.write(content.tostring())\n",
    "\n",
    "def read_from_file(file_name):\n",
    "    with open(f\"{file_name}\") as fp:\n",
    "        return np.fromstring(fp.readlines(),  dtype=int)\n",
    "\n",
    "def show_topic_divergence(scenario):\n",
    "    topic = [[],[]]\n",
    "\n",
    "    messages = netlogo.report(\"get-in-topic\").astype(int)\n",
    "    # should_be = [[2, 1, 3], [3, 1, 1, 4]]\n",
    "\n",
    "    with open(f\"plots/{scenario}_in-topic-data.csv\", \"a+\") as fp:\n",
    "        fp.write(f\"{list(messages)}\")\n",
    "        fp.write(\"\\n\")\n",
    "    \n",
    "    prev_compat = False\n",
    "\n",
    "    for curr_compat in messages:\n",
    "        \n",
    "        if prev_compat == curr_compat: # continue last count\n",
    "            topic[curr_compat][len(topic[curr_compat])-1] += 1\n",
    "        else: # create new count\n",
    "            topic[curr_compat].append(1)\n",
    "        \n",
    "        prev_compat = curr_compat\n",
    "\n",
    "    # print(topic)\n",
    "\n",
    "    sns.displot(topic[0], kde=True).set(title=\"Lengths of Out-of-Topic Discussions\")\n",
    "    x_ticks = [1, 2, 3, 4, 5, 6, 7, 8, 9, 10, 11, 12, 13, 14]\n",
    "    plt.xticks(x_ticks)\n",
    "\n",
    "    sns.displot(topic[1], kde=True).set(title=\"Lengths of In-Topic Discussions\")"
   ]
  },
  {
   "cell_type": "code",
   "execution_count": 8,
   "metadata": {},
   "outputs": [],
   "source": [
    "scenarios = {\n",
    "    # Scenario:sub-scenario : [Attentio Norm, females, males, female_prob_exploit, male_prob_exploit]\n",
    "    # Working class\n",
    "    1.1 : [\"General\", 1, 1, 0.45, 0.25],\n",
    "    1.2 : [\"General\", 2, 1, 0.45, 0.25],\n",
    "    1.3 : [\"General\", 1, 2, 0.45, 0.25],\n",
    "    1.4 : [\"Gendered\", 2, 1, 0.45, 0.25],\n",
    "    1.5 : [\"Gendered\", 1, 2, 0.45, 0.25],\n",
    "    \n",
    "    # Upper class    \n",
    "    2.1 : [\"General\", 1, 1, 0.85, 0.8],\n",
    "    2.2 : [\"General\", 2, 1, 0.85, 0.8],\n",
    "    2.3 : [\"General\", 1, 2, 0.85, 0.8],\n",
    "    2.4 : [\"Gendered\", 2, 1, 0.85, 0.8],\n",
    "    2.5 : [\"Gendered\", 1, 2, 0.85, 0.8],\n",
    "\n",
    "    # Middle class    \n",
    "    3.1 : [\"General\", 1, 1, 0.6, 0.5],\n",
    "    3.2 : [\"General\", 2def load_model():\n",
    "\n",
    "    if platform == \"linux\":\n",
    "        model_path = os.path.abspath(os.getcwd()) + \"/files/knowledge_units_with_board.nlogo\"    \n",
    "    elif platform == \"win32\":\n",
    "        model_path = os.path.abspath(os.getcwd()) + \"\\\\files\\\\knowledge_units_with_board.nlogo\"\n",
    "    netlogo.load_model(model_path)\n",
    "    netlogo.command(\"set number_of_agents 15\")\n",
    "    netlogo.command(\"setup\")\n",
    "    \n",
    "load_model()\n",
    "\n",
    "# todo -> \n",
    "# repeat_report !!!\n",
    "# reduce vars -> compatibilities is inverse of divergency...\n",
    "# reuse functions\n",
    "# trash old functions ( graph gen etc. )\n",
    "# multithreading for running all sims at once ! https://docs.python.org/3/library/multiprocessing.html\n",
    "\n",
    "netlogo.repeat_report(\"(1 - mf_ratio)\", 30)\n",
    "\n",
    "# change interface vars\n",
    "# netlogo.command(\"set random-seed 250474\"), 1, 0.6, 0.5],\n",
    "    3.3 : [\"General\", 1, 2, 0.6, 0.5],\n",
    "    3.4 : [\"Gendered\", 2, 1, 0.6, 0.5],\n",
    "    3.5 : [\"Gendered\", 1, 2, 0.6, 0.5],\n",
    "    \n",
    "}\n",
    "\n",
    "# old scenarios\n",
    "# scenarios = {\n",
    "#     # Scenario:sub-scenario : [Attentio Norm, females, males, female_prob_exploit, male_prob_exploit]\n",
    "#     # Working class\n",
    "#     1.1 : [\"General\", 1, 1, 0.65, 0.25],\n",
    "#     1.2 : [\"General\", 2, 1, 0.65, 0.25],\n",
    "#     1.3 : [\"Gendered\", 2, 1, 0.65, 0.25],\n",
    "    \n",
    "#     # Middle class\n",
    "#     2.1 : [\"General\", 1, 1, 0.7, 0.5],\n",
    "#     2.2 : [\"General\", 2, 1, 0.7, 0.5],\n",
    "#     2.3 : [\"Gendered\", 2, 1, 0.7, 0.5],\n",
    "    \n",
    "#     # Upper class\n",
    "#     3.1 : [\"General\", 1, 1, 0.85, 0.75],\n",
    "#     3.2 : [\"General\", 2, 1, 0.85, 0.75],\n",
    "#     3.3 : [\"Gendered\", 2, 1, 0.85, 0.75],\n",
    "# }\n",
    "\n",
    "\n",
    "# run_scenario(*scenarios[1.1], 1.1, 50)"
   ]
  },
  {
   "cell_type": "code",
   "execution_count": 12,
   "metadata": {},
   "outputs": [],
   "source": [
    "\n",
    "def plot_topic(indexes, data, in_out, scenario):\n",
    "\n",
    "    if in_out not in [\"in\", \"out\", \"polarised\"]: \n",
    "        print(\"invalid in / out\")\n",
    "        return\n",
    "    \n",
    "    topic_print = 'In-Topic' if in_out == 'in' else 'Out-of-Topic' if in_out == 'out' else 'Polarised'\n",
    "    \n",
    "    plt.ylabel(\"Count\")\n",
    "\n",
    "    plt.xlabel(f\"{topic_print} Length\")\n",
    "\n",
    "    plt.title(f\"{scenario} Lengths of {topic_print} Discussions\")\n",
    "    plt.bar(indexes, lidef load_model():\n",
    "\n",
    "    if platform == \"linux\":\n",
    "        model_path = os.path.abspath(os.getcwd()) + \"/files/knowledge_units_with_board.nlogo\"    \n",
    "    elif platform == \"win32\":\n",
    "        model_path = os.path.abspath(os.getcwd()) + \"\\\\files\\\\knowledge_units_with_board.nlogo\"\n",
    "    netlogo.load_model(model_path)\n",
    "    netlogo.command(\"set number_of_agents 15\")\n",
    "    netlogo.command(\"setup\")\n",
    "    \n",
    "load_model()\n",
    "\n",
    "# todo -> \n",
    "# repeat_report !!!\n",
    "# reduce vars -> compatibilities is inverse of divergency...\n",
    "# reuse functions\n",
    "# trash old functions ( graph gen etc. )\n",
    "# multithreading for running all sims at once ! https://docs.python.org/3/library/multiprocessing.html\n",
    "\n",
    "netlogo.repeat_report(\"(1 - mf_ratio)\", 30)\n",
    "\n",
    "# change interface vars\n",
    "# netlogo.command(\"set random-seed 250474\")st(data.values()))\n",
    "    plt.xticks(indexes, list(data.keys()))\n",
    "\n",
    "    plt.savefig(f\"plots/{scenario}_{in_out}_topic.png\")\n",
    "    plt.show()"
   ]
  },
  {
   "cell_type": "code",
   "execution_count": 9,
   "metadata": {},
   "outputs": [],
   "source": [
    "# gets messages, returns in/out of topic lengths\n",
    "# [1, 0, 0, 0, 1, 1] -> [[3], [1, 2]]\n",
    "def split_topics(messages):\n",
    "    topic = [[],[]]\n",
    "    print(messages)\n",
    "    # convert to int\n",
    "    messages = [int(e) for e in messages]\n",
    "    print(messages)\n",
    "    prev_compat = 1 - messages[0]\n",
    "\n",
    "    for curr_compat in messages:\n",
    "        if curr_compat == -1 or curr_compat == \"-1\": curr_compat = 0\n",
    "        if prev_compat == curr_compat: # continue last count\n",
    "            topic[curr_compat][len(topic[curr_compat]) - 1] += 1\n",
    "        else: # create new count\n",
    "            topic[curr_compat].append(1)\n",
    "        \n",
    "        prev_compat = curr_compat\n",
    "    \n",
    "    print(topic)\n",
    "    return topic"
   ]
  },
  {
   "cell_type": "markdown",
   "metadata": {},
   "source": [
    "## Read compats with polarisation"
   ]
  },
  {
   "cell_type": "code",
   "execution_count": 31,
   "metadata": {},
   "outputs": [
    {
     "name": "stdout",
     "output_type": "stream",
     "text": [
      "scenario=1.2 done\n",
      "scenario=2.2 done\n",
      "scenario=2.3 done\n"
     ]
    }
   ],
   "source": [
    "# compat-ratio-report-with-polarisation\n",
    "def split_topics_polarised(messages):\n",
    "    topic = [[],[],[]]\n",
    "    # convert to int\n",
    "    messages = [int(e) for e in messages]\n",
    "    \n",
    "    prev_compat = -1\n",
    "\n",
    "    topic_indexes = {\n",
    "        -1 : 0,\n",
    "        0 : 1,\n",
    "        1 : 2,\n",
    "    }\n",
    "\n",
    "    for curr_compat in messages:\n",
    "        index = topic_indexes[curr_compat]\n",
    "        \n",
    "        if prev_compat == curr_compat: # continue last count    \n",
    "            topic[index][len(topic[index]) - 1] += 1\n",
    "        else: # create new count\n",
    "            topic[index].append(1)\n",
    "        \n",
    "        prev_compat = curr_compat\n",
    "    \n",
    "    # print(topic)\n",
    "    return topic\n",
    "\n",
    "# concat all in/out of topic lengths\n",
    "def read_in_topic_polarised(scenario):\n",
    "    file_path = f\"outputs/{scenario}_compat_ratios_polarisation.csv\"\n",
    "\n",
    "    in_topic = []\n",
    "    out_topic = []\n",
    "    polarised_topic = []\n",
    "\n",
    "    with open(file_path) as fp:\n",
    "        \n",
    "        for l in fp.readlines():\n",
    "            # -1 -> 0 | 1 -> 1\n",
    "            # print(l.split())\n",
    "            # lst = [e for e in l if e.isalnum() or e == \"-1\"]\n",
    "            lst = [e for e in l.strip(\"\\n\").split(\",\")]\n",
    "            # print(f\"{lst=}\")\n",
    "            topics = split_topics_polarised(lst)\n",
    "            out_topic += topics[0]\n",
    "            polarised_topic += topics[1]\n",
    "            in_topic += topics[2]\n",
    "\n",
    "    return out_topic, polarised_topic, in_topic\n",
    "\n",
    "def run_scenario_polarised(method, females, males, f_exploit, m_exploit, scenario, iterations = 10):\n",
    "    file_path = f\"outputs/{scenario}_compat_ratios_polarisation.csv\"\n",
    "    if os.path.exists(file_path): os.remove(file_path) # reset file\n",
    "\n",
    "    netlogo.command(f'set Method \"Attention Norm - {method}\"')\n",
    "    netlogo.command(f'set females {females}')\n",
    "    netlogo.command(f'set males {males}')\n",
    "    netlogo.command(f'set female_prob_exploit {f_exploit}')\n",
    "    netlogo.command(f'set male_prob_exploit {m_exploit}')\n",
    "\n",
    "    for _ in range(iterations):    \n",
    "        netlogo.command(\"setup\")\n",
    "        netlogo.command(\"repeat 200 [go]\")\n",
    "\n",
    "        messages = netlogo.report(\"compat-ratio-report-with-polarisation\").astype(int)\n",
    "                \n",
    "        with open(file_path, \"a+\") as fp:\n",
    "            fp.write(','.join(str(x) for x in messages))\n",
    "            fp.write(\"\\n\")\n",
    "    \n",
    "    print(f\"{scenario=} done\")\n",
    "\n",
    "scenario_ids = [1.2, 2.2, 2.3]\n",
    "for s in scenario_ids:\n",
    "    run_scenario_polarised(*scenarios[s], s)"
   ]
  },
  {
   "cell_type": "code",
   "execution_count": 29,
   "metadata": {},
   "outputs": [],
   "source": [
    "def plot_from_files_polarised(scenario):\n",
    "    # return the length counts for in/out topic\n",
    "    out_topic, polarised_topic, in_topic = read_in_topic_polarised(scenario)\n",
    "        \n",
    "    out_topic_counter = dict(sorted(Counter(out_topic).items()))\n",
    "    indexes = np.arange(len(out_topic_counter))\n",
    "    plot_topic(indexes, out_topic_counter, \"out\",  scenario)\n",
    "    \n",
    "    in_topic_counter = dict(sorted(Counter(in_topic).items()))\n",
    "    indexes = np.arange(len(in_topic_counter))\n",
    "    plot_topic(indexes, in_topic_counter, \"in\",  scenario)\n",
    "\n",
    "    polarised_topic_counter = dict(sorted(Counter(polarised_topic).items()))    \n",
    "    indexes = np.arange(len(polarised_topic_counter))\n",
    "    plot_topic(indexes, polarised_topic_counter, \"polarised\",  scenario)\n",
    "\n",
    "    common_params = dict(bins=100, range=(1, 200), density = True)\n",
    "\n",
    "    ax = plt.hist((out_topic, in_topic, polarised_topic), **common_params)\n",
    "    plt.legend([\"out of topic\", \"in topic\", \"polarised discussion\"])\n",
    "    plt.title(\"Type of Discussion Length\")\n",
    "    plt.ylabel(\"Prevalence\")\n",
    "    plt.xlabel(\"Length of Discussion\")"
   ]
  },
  {
   "cell_type": "code",
   "execution_count": 30,
   "metadata": {},
   "outputs": [
    {
     "data": {
      "image/png": "[encoded data removed]",
      "text/plain": [
       "<Figure size 432x288 with 1 Axes>"
      ]
     },
     "metadata": {
      "needs_background": "light"
     },
     "output_type": "display_data"
    },
    {
     "data": {
      "image/png": "[encoded data removed]",
      "text/plain": [
       "<Figure size 432x288 with 1 Axes>"
      ]
     },
     "metadata": {
      "needs_background": "light"
     },
     "output_type": "display_data"
    },
    {
     "data": {
      "image/png": "[encoded data removed]",
      "text/plain": [
       "<Figure size 432x288 with 1 Axes>"
      ]
     },
     "metadata": {
      "needs_background": "light"
     },
     "output_type": "display_data"
    },
    {
     "data": {
      "image/png": "[encoded data removed]",
      "text/plain": [
       "<Figure size 432x288 with 1 Axes>"
      ]
     },
     "metadata": {
      "needs_background": "light"
     },
     "output_type": "display_data"
    }
   ],
   "source": [
    "scenario = 1.1\n",
    "plot_from_files_polarised(1.1)"
   ]
  },
  {
   "cell_type": "code",
   "execution_count": null,
   "metadata": {},
   "outputs": [
    {
     "data": {
      "image/png": "[encoded data removed]",
      "text/plain": [
       "<Figure size 432x288 with 1 Axes>"
      ]
     },
     "metadata": {
      "needs_background": "light"
     },
     "output_type": "display_data"
    }
   ],
   "source": [
    "common_params = dict(bins=50, range=(1, 200))\n",
    "\n",
    "ax = plt.hist((out_topic, in_topic, polarised_topic), **common_params)\n",
    "plt.legend([\"out of topic\", \"in topic\", \"polarised discussion\"])\n",
    "plt.title(\"Type of Discussion Length\")\n",
    "plt.ylabel(\"Prevalence\")\n",
    "plt.xlabel(\"Length of Discussion\")\n",
    "\n",
    "# ax.legend()\n",
    "plt.show()"
   ]
  },
  {
   "cell_type": "code",
   "execution_count": null,
   "metadata": {},
   "outputs": [
    {
     "name": "stdout",
     "output_type": "stream",
     "text": [
      "lst=['1', '-1', '-1', '-1', '-1', '-1', '-1', '-1', '-1', '-1', '-1', '-1', '-1', '-1', '-1', '-1', '-1', '-1', '-1', '-1', '-1', '-1', '-1', '-1', '-1', '-1', '-1', '-1', '-1', '-1', '-1', '-1', '-1', '-1', '-1', '-1', '-1', '-1', '-1', '-1', '-1', '-1', '-1', '-1', '-1', '-1', '-1', '-1', '-1', '-1', '-1\\n']\n",
      "['1', '-1', '-1', '-1', '-1', '-1', '-1', '-1', '-1', '-1', '-1', '-1', '-1', '-1', '-1', '-1', '-1', '-1', '-1', '-1', '-1', '-1', '-1', '-1', '-1', '-1', '-1', '-1', '-1', '-1', '-1', '-1', '-1', '-1', '-1', '-1', '-1', '-1', '-1', '-1', '-1', '-1', '-1', '-1', '-1', '-1', '-1', '-1', '-1', '-1', '-1\\n']\n",
      "[1, -1, -1, -1, -1, -1, -1, -1, -1, -1, -1, -1, -1, -1, -1, -1, -1, -1, -1, -1, -1, -1, -1, -1, -1, -1, -1, -1, -1, -1, -1, -1, -1, -1, -1, -1, -1, -1, -1, -1, -1, -1, -1, -1, -1, -1, -1, -1, -1, -1, -1]\n",
      "[[50], [1]]\n"
     ]
    },
    {
     "data": {
      "text/plain": [
       "([50], [1])"
      ]
     },
     "execution_count": 51,
     "metadata": {},
     "output_type": "execute_result"
    }
   ],
   "source": [
    "read_in_topic(1.1, True)"
   ]
  },
  {
   "cell_type": "code",
   "execution_count": null,
   "metadata": {},
   "outputs": [],
   "source": [
    "messages = netlogo.report(\"compat-ratio-report\").astype(int)\n",
    "file_path = f\"outputs/1.1_compat_ratios.csv\"\n",
    "    \n",
    "with open(file_path, \"a+\") as fp:\n",
    "    fp.write(','.join(str(x) for x in messages))\n",
    "    fp.write(\"\\n\")"
   ]
  },
  {
   "cell_type": "code",
   "execution_count": 11,
   "metadata": {},
   "outputs": [],
   "source": [
    "# concat all in/out of topic lengths\n",
    "def read_in_topic(scenario, divergency):\n",
    "\n",
    "    if divergency:\n",
    "        file_path = f\"outputs/{scenario}_compat_ratios.csv\"\n",
    "    else:\n",
    "        file_path = f\"outputs/{scenario}_topic_data.csv\"\n",
    "\n",
    "    in_topic = []\n",
    "    out_topic = []\n",
    "\n",
    "    with open(file_path) as fp:\n",
    "        \n",
    "        for l in fp.readlines():\n",
    "            # -1 -> 0 | 1 -> 1\n",
    "            # print(l.split())\n",
    "            # lst = [e for e in l if e.isalnum() or e == \"-1\"]\n",
    "            lst = [e for e in l.split(\",\")]\n",
    "            print(f\"{lst=}\")\n",
    "            topics = split_topics(lst)\n",
    "            out_topic += topics[0]\n",
    "            in_topic += topics[1]\n",
    "\n",
    "    return out_topic, in_topic\n",
    "\n",
    "def run_scenario(method, females, males, f_exploit, m_exploit, scenario, iterations = 5):\n",
    "    file_path = f\"outputs/{scenario}_compat_ratios.csv\"\n",
    "    if os.path.exists(file_path): os.remove(file_path) # reset file\n",
    "\n",
    "    netlogo.command(f'set Method \"Attention Norm - {method}\"')\n",
    "    netlogo.command(f'set females {females}')\n",
    "    netlogo.command(f'set males {males}')\n",
    "    netlogo.command(f'set female_prob_exploit {f_exploit}')\n",
    "    netlogo.command(f'set male_prob_exploit {m_exploit}')\n",
    "\n",
    "    for _ in range(iterations):    \n",
    "        netlogo.command(\"setup\")\n",
    "        netlogo.command(\"repeat 50 [go]\")\n",
    "\n",
    "        messages = netlogo.report(\"compat-ratio-report\").astype(int)\n",
    "        with open(file_path, \"a+\") as fp:\n",
    "            # fp.write(f\"{[x for x in messages]}\")\n",
    "            fp.write(','.join(str(x) for x in messages))\n",
    "            fp.write(\"\\n\")\n",
    "\n",
    "    # return the length counts for in/out topic\n",
    "    out_topic, in_topic = read_in_topic(scenario, divergency = True)\n",
    "\n",
    "    out_topic = list(map(int,out_topic)) # map here is irrelevant?\n",
    "    in_topic = list(map(int,in_topic))\n",
    "    return  dict(sorted(Counter(out_topic).items())), dict(sorted(Counter(in_topic).items())), \n",
    "    # return Counter(out_topic), Counter(in_topic)\n",
    "\n",
    "    # show_topic_divergence(scenario)\n",
    "    # show_sim_stats()\n"
   ]
  },
  {
   "cell_type": "code",
   "execution_count": null,
   "metadata": {},
   "outputs": [],
   "source": [
    "# in_topic_counter = list(map(int,in_topic_counter))\n",
    "\n",
    "# print(in_topic_counter)\n",
    "\n",
    "# sorted_keys = sorted(in_topic_counter.keys())\n",
    "# new_dict = {}\n",
    "# for k in sorted_keys:\n",
    "#     new_dict[k] = in_topic_counter[k]\n",
    "\n",
    "# in_topic_counter = new_items\n",
    "\n",
    "# print(out_topic_counter)\n",
    "# sorted_dict = dict(sorted(out_topic_counter.items()))\n",
    "# print(sorted_dict)\n",
    "# ind = np.arange(len(in_topic_counter))\n",
    "# data = in_topic_counter\n",
    "\n",
    "# plt.xlabel(\"Out-of-Topic Length\")\n",
    "# plt.ylabel(\"Count\")\n",
    "# plt.title(\"Lengths of Out-of-Topic Discussions\")\n",
    "# plt.bar(ind, list(data[0]))\n",
    "# plt.xticks(ind, list(data[1]))\n",
    "# plt.show()\n",
    "# out_topic_counter = sorted(out_topic_counter.items())"
   ]
  },
  {
   "cell_type": "code",
   "execution_count": null,
   "metadata": {},
   "outputs": [],
   "source": [
    "# data = {1: 9426, 2: 4367, 3: 2157, 4: 1079, 5: 517, 6: 234, 7: 123, 8: 61, 9: 36, 10: 8, 11: 5, 12: 4, 16: 2, 13: 2, 18: 1, 14: 1}\n",
    "# scenario = 1.1\n",
    "# out_topic_counter, in_topic_counter = run_scenario(*scenarios[scenario], scenario, 50)\n",
    "\n",
    "# # sort\n",
    "# out_topic_counter = dict(sorted(out_topic_counter.items()))\n",
    "# in_topic_counter = dict(sorted(in_topic_counter.items()))\n",
    "\n",
    "# ind = np.arange(len(out_topic_counter))\n",
    "# data = out_topic_counter\n",
    "\n",
    "# plt.xlabel(\"Out-of-Topic Length\")\n",
    "# plt.ylabel(\"Count\")\n",
    "# plt.title(\"Lengths of Out-of-Topic Discussions\")\n",
    "# plt.bar(ind, list(data.values()))\n",
    "# plt.xticks(ind, list(data.keys()))\n",
    "# plt.show()\n",
    "# # plt.savefig(f\"{scenario}_out_topic_linear.png\")\n",
    "\n",
    "# plt.xlabel(\"Out-of-Topic Length\")\n",
    "# plt.ylabel(\"Count\")\n",
    "# plt.title(\"Lengths of Out-of-Topic Discussions - Log\")\n",
    "# plt.bar(ind, list(data.values()))\n",
    "# plt.xticks(ind, list(data.keys()))\n",
    "# plt.yscale(\"log\")\n",
    "# plt.show()\n",
    "# # plt.savefig(f\"{scenario}_out_topic_log.png\")\n",
    "\n",
    "# ind = np.arange(len(in_topic_counter))\n",
    "# data = in_topic_counter\n",
    "\n",
    "# plt.xlabel(\"In-Topic Length\")\n",
    "# plt.ylabel(\"Count\")\n",
    "# plt.title(\"Lengths of In-Topic Discussions\")\n",
    "# plt.bar(ind, list(data.values()))\n",
    "# plt.xticks(ind, list(data.keys()))\n",
    "# plt.show()\n",
    "# # plt.savefig(f\"{scenario}_in_topic_linear.png\")\n",
    "\n",
    "# plt.xlabel(\"In-Topic Length\")\n",
    "# plt.ylabel(\"Count\")\n",
    "# plt.title(\"Lengths of In-Topic Discussions - Log\")\n",
    "# plt.bar(ind, list(data.values()))\n",
    "# plt.xticks(ind, list(data.keys()))\n",
    "# plt.yscale(\"log\")\n",
    "# plt.show()\n",
    "# plt.savefig(f\"{scenario}_in_topic_log.png\")\n",
    "\n",
    "# haven't tested savefig"
   ]
  },
  {
   "cell_type": "code",
   "execution_count": null,
   "metadata": {},
   "outputs": [
    {
     "name": "stdout",
     "output_type": "stream",
     "text": [
      "lst=['[1', '-1', '-1', '-1', '-1', '-1', '-1', '-1', '-1', '-1', '-1', '-1', '-1', '-1', '-1', '-1', '-1', '-1', '-1', '-1', '-1', '-1', '-1', '-1', '-1', '-1', '-1', '-1', '-1', '-1', '-1', '-1', '-1', '-1', '-1', '-1', '-1', '-1', '-1', '-1', '-1', '-1', '-1', '-1', '-1', '-1', '-1', '-1', '-1', '-1', '-1]\\n']\n",
      "['[1', '-1', '-1', '-1', '-1', '-1', '-1', '-1', '-1', '-1', '-1', '-1', '-1', '-1', '-1', '-1', '-1', '-1', '-1', '-1', '-1', '-1', '-1', '-1', '-1', '-1', '-1', '-1', '-1', '-1', '-1', '-1', '-1', '-1', '-1', '-1', '-1', '-1', '-1', '-1', '-1', '-1', '-1', '-1', '-1', '-1', '-1', '-1', '-1', '-1', '-1]\\n']\n"
     ]
    },
    {
     "ename": "ValueError",
     "evalue": "invalid literal for int() with base 10: '[1'",
     "output_type": "error",
     "traceback": [
      "\u001b[0;31m---------------------------------------------------------------------------\u001b[0m",
      "\u001b[0;31mValueError\u001b[0m                                Traceback (most recent call last)",
      "\u001b[0;32m<ipython-input-31-38be3add4887>\u001b[0m in \u001b[0;36m<module>\u001b[0;34m\u001b[0m\n\u001b[1;32m     11\u001b[0m \u001b[0;31m# run 3 scenarios\u001b[0m\u001b[0;34m\u001b[0m\u001b[0;34m\u001b[0m\u001b[0;34m\u001b[0m\u001b[0m\n\u001b[1;32m     12\u001b[0m \u001b[0;32mfor\u001b[0m \u001b[0mscenario_id\u001b[0m\u001b[0;34m,\u001b[0m\u001b[0mv\u001b[0m \u001b[0;32min\u001b[0m \u001b[0mreduced_scenarios\u001b[0m\u001b[0;34m.\u001b[0m\u001b[0mitems\u001b[0m\u001b[0;34m(\u001b[0m\u001b[0;34m)\u001b[0m\u001b[0;34m:\u001b[0m\u001b[0;34m\u001b[0m\u001b[0;34m\u001b[0m\u001b[0m\n\u001b[0;32m---> 13\u001b[0;31m     \u001b[0mout_topic_counter\u001b[0m\u001b[0;34m,\u001b[0m \u001b[0min_topic_counter\u001b[0m \u001b[0;34m=\u001b[0m \u001b[0mrun_scenario\u001b[0m\u001b[0;34m(\u001b[0m\u001b[0;34m*\u001b[0m\u001b[0mv\u001b[0m\u001b[0;34m,\u001b[0m \u001b[0mscenario_id\u001b[0m\u001b[0;34m,\u001b[0m \u001b[0;36m1\u001b[0m\u001b[0;34m)\u001b[0m\u001b[0;34m\u001b[0m\u001b[0;34m\u001b[0m\u001b[0m\n\u001b[0m\u001b[1;32m     14\u001b[0m \u001b[0;34m\u001b[0m\u001b[0m\n\u001b[1;32m     15\u001b[0m     \u001b[0;31m# sort\u001b[0m\u001b[0;34m\u001b[0m\u001b[0;34m\u001b[0m\u001b[0;34m\u001b[0m\u001b[0m\n",
      "\u001b[0;32m<ipython-input-29-9ed81e6bd0b1>\u001b[0m in \u001b[0;36mrun_scenario\u001b[0;34m(method, females, males, f_exploit, m_exploit, scenario, iterations)\u001b[0m\n\u001b[1;32m     44\u001b[0m \u001b[0;34m\u001b[0m\u001b[0m\n\u001b[1;32m     45\u001b[0m     \u001b[0;31m# return the length counts for in/out topic\u001b[0m\u001b[0;34m\u001b[0m\u001b[0;34m\u001b[0m\u001b[0;34m\u001b[0m\u001b[0m\n\u001b[0;32m---> 46\u001b[0;31m     \u001b[0mout_topic\u001b[0m\u001b[0;34m,\u001b[0m \u001b[0min_topic\u001b[0m \u001b[0;34m=\u001b[0m \u001b[0mread_in_topic\u001b[0m\u001b[0;34m(\u001b[0m\u001b[0mscenario\u001b[0m\u001b[0;34m,\u001b[0m \u001b[0mdivergency\u001b[0m \u001b[0;34m=\u001b[0m \u001b[0;32mTrue\u001b[0m\u001b[0;34m)\u001b[0m\u001b[0;34m\u001b[0m\u001b[0;34m\u001b[0m\u001b[0m\n\u001b[0m\u001b[1;32m     47\u001b[0m \u001b[0;34m\u001b[0m\u001b[0m\n\u001b[1;32m     48\u001b[0m     \u001b[0mout_topic\u001b[0m \u001b[0;34m=\u001b[0m \u001b[0mlist\u001b[0m\u001b[0;34m(\u001b[0m\u001b[0mmap\u001b[0m\u001b[0;34m(\u001b[0m\u001b[0mint\u001b[0m\u001b[0;34m,\u001b[0m\u001b[0mout_topic\u001b[0m\u001b[0;34m)\u001b[0m\u001b[0;34m)\u001b[0m \u001b[0;31m# map here is irrelevant?\u001b[0m\u001b[0;34m\u001b[0m\u001b[0;34m\u001b[0m\u001b[0m\n",
      "\u001b[0;32m<ipython-input-29-9ed81e6bd0b1>\u001b[0m in \u001b[0;36mread_in_topic\u001b[0;34m(scenario, divergency)\u001b[0m\n\u001b[1;32m     18\u001b[0m             \u001b[0mlst\u001b[0m \u001b[0;34m=\u001b[0m \u001b[0;34m[\u001b[0m\u001b[0me\u001b[0m \u001b[0;32mfor\u001b[0m \u001b[0me\u001b[0m \u001b[0;32min\u001b[0m \u001b[0ml\u001b[0m\u001b[0;34m.\u001b[0m\u001b[0msplit\u001b[0m\u001b[0;34m(\u001b[0m\u001b[0;34m\", \"\u001b[0m\u001b[0;34m)\u001b[0m\u001b[0;34m]\u001b[0m\u001b[0;34m\u001b[0m\u001b[0;34m\u001b[0m\u001b[0m\n\u001b[1;32m     19\u001b[0m             \u001b[0mprint\u001b[0m\u001b[0;34m(\u001b[0m\u001b[0;34mf\"{lst=}\"\u001b[0m\u001b[0;34m)\u001b[0m\u001b[0;34m\u001b[0m\u001b[0;34m\u001b[0m\u001b[0m\n\u001b[0;32m---> 20\u001b[0;31m             \u001b[0mtopics\u001b[0m \u001b[0;34m=\u001b[0m \u001b[0msplit_topics\u001b[0m\u001b[0;34m(\u001b[0m\u001b[0mlst\u001b[0m\u001b[0;34m)\u001b[0m\u001b[0;34m\u001b[0m\u001b[0;34m\u001b[0m\u001b[0m\n\u001b[0m\u001b[1;32m     21\u001b[0m             \u001b[0mout_topic\u001b[0m \u001b[0;34m+=\u001b[0m \u001b[0mtopics\u001b[0m\u001b[0;34m[\u001b[0m\u001b[0;36m0\u001b[0m\u001b[0;34m]\u001b[0m\u001b[0;34m\u001b[0m\u001b[0;34m\u001b[0m\u001b[0m\n\u001b[1;32m     22\u001b[0m             \u001b[0min_topic\u001b[0m \u001b[0;34m+=\u001b[0m \u001b[0mtopics\u001b[0m\u001b[0;34m[\u001b[0m\u001b[0;36m1\u001b[0m\u001b[0;34m]\u001b[0m\u001b[0;34m\u001b[0m\u001b[0;34m\u001b[0m\u001b[0m\n",
      "\u001b[0;32m<ipython-input-16-0068eba81672>\u001b[0m in \u001b[0;36msplit_topics\u001b[0;34m(messages)\u001b[0m\n\u001b[1;32m      5\u001b[0m     \u001b[0mprint\u001b[0m\u001b[0;34m(\u001b[0m\u001b[0mmessages\u001b[0m\u001b[0;34m)\u001b[0m\u001b[0;34m\u001b[0m\u001b[0;34m\u001b[0m\u001b[0m\n\u001b[1;32m      6\u001b[0m     \u001b[0;31m# convert to int\u001b[0m\u001b[0;34m\u001b[0m\u001b[0;34m\u001b[0m\u001b[0;34m\u001b[0m\u001b[0m\n\u001b[0;32m----> 7\u001b[0;31m     \u001b[0mmessages\u001b[0m \u001b[0;34m=\u001b[0m \u001b[0;34m[\u001b[0m\u001b[0mint\u001b[0m\u001b[0;34m(\u001b[0m\u001b[0me\u001b[0m\u001b[0;34m)\u001b[0m \u001b[0;32mfor\u001b[0m \u001b[0me\u001b[0m \u001b[0;32min\u001b[0m \u001b[0mmessages\u001b[0m\u001b[0;34m]\u001b[0m\u001b[0;34m\u001b[0m\u001b[0;34m\u001b[0m\u001b[0m\n\u001b[0m\u001b[1;32m      8\u001b[0m     \u001b[0mprint\u001b[0m\u001b[0;34m(\u001b[0m\u001b[0mmessages\u001b[0m\u001b[0;34m)\u001b[0m\u001b[0;34m\u001b[0m\u001b[0;34m\u001b[0m\u001b[0m\n\u001b[1;32m      9\u001b[0m     \u001b[0mprev_compat\u001b[0m \u001b[0;34m=\u001b[0m \u001b[0;36m1\u001b[0m \u001b[0;34m-\u001b[0m \u001b[0mmessages\u001b[0m\u001b[0;34m[\u001b[0m\u001b[0;36m0\u001b[0m\u001b[0;34m]\u001b[0m\u001b[0;34m\u001b[0m\u001b[0;34m\u001b[0m\u001b[0m\n",
      "\u001b[0;32m<ipython-input-16-0068eba81672>\u001b[0m in \u001b[0;36m<listcomp>\u001b[0;34m(.0)\u001b[0m\n\u001b[1;32m      5\u001b[0m     \u001b[0mprint\u001b[0m\u001b[0;34m(\u001b[0m\u001b[0mmessages\u001b[0m\u001b[0;34m)\u001b[0m\u001b[0;34m\u001b[0m\u001b[0;34m\u001b[0m\u001b[0m\n\u001b[1;32m      6\u001b[0m     \u001b[0;31m# convert to int\u001b[0m\u001b[0;34m\u001b[0m\u001b[0;34m\u001b[0m\u001b[0;34m\u001b[0m\u001b[0m\n\u001b[0;32m----> 7\u001b[0;31m     \u001b[0mmessages\u001b[0m \u001b[0;34m=\u001b[0m \u001b[0;34m[\u001b[0m\u001b[0mint\u001b[0m\u001b[0;34m(\u001b[0m\u001b[0me\u001b[0m\u001b[0;34m)\u001b[0m \u001b[0;32mfor\u001b[0m \u001b[0me\u001b[0m \u001b[0;32min\u001b[0m \u001b[0mmessages\u001b[0m\u001b[0;34m]\u001b[0m\u001b[0;34m\u001b[0m\u001b[0;34m\u001b[0m\u001b[0m\n\u001b[0m\u001b[1;32m      8\u001b[0m     \u001b[0mprint\u001b[0m\u001b[0;34m(\u001b[0m\u001b[0mmessages\u001b[0m\u001b[0;34m)\u001b[0m\u001b[0;34m\u001b[0m\u001b[0;34m\u001b[0m\u001b[0m\n\u001b[1;32m      9\u001b[0m     \u001b[0mprev_compat\u001b[0m \u001b[0;34m=\u001b[0m \u001b[0;36m1\u001b[0m \u001b[0;34m-\u001b[0m \u001b[0mmessages\u001b[0m\u001b[0;34m[\u001b[0m\u001b[0;36m0\u001b[0m\u001b[0;34m]\u001b[0m\u001b[0;34m\u001b[0m\u001b[0;34m\u001b[0m\u001b[0m\n",
      "\u001b[0;31mValueError\u001b[0m: invalid literal for int() with base 10: '[1'"
     ]
    }
   ],
   "source": [
    "reduced_scenarios = {\n",
    "    # Working class\n",
    "    1.1 : [\"General\", 1, 1, 0.45, 0.25],\n",
    "    # 1.5 : [\"Gendered\", 1, 2, 0.45, 0.25],\n",
    "    \n",
    "    # Upper class    \n",
    "    # 2.1 : [\"General\", 1, 1, 0.85, 0.8],\n",
    "    # 2.5 : [\"Gendered\", 1, 2, 0.85, 0.8],\n",
    "}\n",
    "\n",
    "# run 3 scenarios\n",
    "for scenario_id,v in reduced_scenarios.items():\n",
    "    out_topic_counter, in_topic_counter = run_scenario(*v, scenario_id, 1)\n",
    "\n",
    "    # sort\n",
    "    out_topic_counter = dict(sorted(out_topic_counter.items()))\n",
    "    in_topic_counter = dict(sorted(in_topic_counter.items()))\n",
    "\n",
    "    indexes = np.arange(len(out_topic_counter))\n",
    "\n",
    "    plot_topic(indexes, out_topic_counter, \"out\",  scenario_id)\n",
    "\n",
    "    indexes = np.arange(len(in_topic_counter))\n",
    "\n",
    "    plot_topic(indexes, in_topic_counter, \"in\",  scenario_id)\n",
    "\n",
    "# TODO - NORMALIZED HISTOGRAM"
   ]
  },
  {
   "cell_type": "markdown",
   "metadata": {},
   "source": [
    "TODO : "
   ]
  },
  {
   "cell_type": "code",
   "execution_count": null,
   "metadata": {},
   "outputs": [],
   "source": [
    "out_topic_counter"
   ]
  },
  {
   "cell_type": "markdown",
   "metadata": {},
   "source": [
    "read only"
   ]
  },
  {
   "cell_type": "code",
   "execution_count": null,
   "metadata": {},
   "outputs": [],
   "source": [
    "\n",
    "out_topic, in_topic = read_in_topic(2.3)\n",
    "\n",
    "out_topic = list(map(int,out_topic))\n",
    "in_topic = list(map(int,in_topic))\n",
    "\n",
    "out_topic_counter = dict(sorted(Counter(out_topic).items()))\n",
    "in_topic_counter = dict(sorted(Counter(in_topic).items()))\n",
    "\n",
    "ind = np.arange(len(out_topic_counter))\n",
    "data = out_topic_counter\n",
    "\n",
    "scenario_id = 2.3\n",
    "\n",
    "indexes = np.arange(len(out_topic_counter))\n",
    "\n",
    "plot_topic(indexes, out_topic_counter, \"out\",  scenario_id)\n",
    "plot_topic(indexes, out_topic_counter, \"out\",  scenario_id)\n",
    "\n",
    "indexes = np.arange(len(in_topic_counter))\n",
    "\n",
    "plot_topic(indexes, in_topic_counter, \"in\",  scenario_id)\n",
    "plot_topic(indexes, in_topic_counter, \"in\",  scenario_id)\n"
   ]
  },
  {
   "cell_type": "code",
   "execution_count": null,
   "metadata": {},
   "outputs": [],
   "source": []
  }
 ],
 "metadata": {
  "interpreter": {
   "hash": "5a59c6b6e8fb7126ba09463352262ba68131ce8157163b93349749a693f8166f"
  },
  "kernelspec": {
   "display_name": "Python 3.10.4 ('tfc_venv': venv)",
   "language": "python",
   "name": "python3"
  },
  "language_info": {
   "codemirror_mode": {
    "name": "ipython",
    "version": 3
   },
   "file_extension": ".py",
   "mimetype": "text/x-python",
   "name": "python",
   "nbconvert_exporter": "python",
   "pygments_lexer": "ipython3",
   "version": "3.10.4"
  },
  "vscode": {
   "interpreter": {
    "hash": "224a1fb48f3aeff08e11720e458a68c9e04bd95f7c04bc0eca1a2d1887a6c242"
   }
  }
 },
 "nbformat": 4,
 "nbformat_minor": 0
}
